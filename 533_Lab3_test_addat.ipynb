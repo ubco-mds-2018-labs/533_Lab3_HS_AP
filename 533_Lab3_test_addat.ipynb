{
 "cells": [
  {
   "cell_type": "code",
   "execution_count": 1,
   "metadata": {
    "collapsed": false
   },
   "outputs": [
    {
     "name": "stderr",
     "output_type": "stream",
     "text": [
      "test_df_Add (__main__.TestAdd) ... "
     ]
    },
    {
     "name": "stdout",
     "output_type": "stream",
     "text": [
      "Setup Class\n",
      "Set Up\n",
      "Tear Down\n",
      "Tear Down Class\n"
     ]
    },
    {
     "name": "stderr",
     "output_type": "stream",
     "text": [
      "ok\n",
      "\n",
      "----------------------------------------------------------------------\n",
      "Ran 1 test in 0.008s\n",
      "\n",
      "OK\n"
     ]
    },
    {
     "data": {
      "text/plain": [
       "<unittest.main.TestProgram at 0x2db7208>"
      ]
     },
     "execution_count": 1,
     "metadata": {},
     "output_type": "execute_result"
    }
   ],
   "source": [
    "import pandas as pd\n",
    "import unittest\n",
    "import pkg.modify.apnd as p1\n",
    "\n",
    "#df = pd.DataFrame(columns=[\"eno\",\"ename\",\"age\",\"salary\"])\n",
    "#df = p1.addat(df,[[\"1265\",\"John\",23,50000]])\n",
    "#data = [[\"1265\",\"John\",23,50000],[\"4598\",\"Sara\",45,85000],[\"2360\",\"Bob\",65,120000],[\"1839\",\"Julia\",21,55000],[\"7632\",\"Mike\",52,150000]]\n",
    "\n",
    "class TestAdd(unittest.TestCase):\n",
    "    \n",
    "    @classmethod\n",
    "    def setUpClass(cls):\n",
    "        print('Setup Class')\n",
    "\n",
    "    \n",
    "    def setUp(self):\n",
    "        self.df = pd.DataFrame(columns=[\"eno\",\"ename\",\"age\",\"salary\"])\n",
    "        self.df = p1.addat(self.df,[[\"1265\",\"John\",23,50000]])\n",
    "        self.data = [[\"1265\",\"John\",23,50000],[\"4598\",\"Sara\",45,85000],[\"2360\",\"Bob\",65,120000],[\"1839\",\"Julia\",21,55000],[\"7632\",\"Mike\",52,150000]]\n",
    "        print('Set Up')\n",
    "    \n",
    "    \n",
    "    def test_df_Add(self):\n",
    "        \n",
    "        self.assertEqual(self.df.iloc[0,0],'1265')\n",
    "        self.assertEqual(self.df.iloc[0,1],'John')\n",
    "        self.assertEqual(self.df.iloc[0,2],23)\n",
    "        self.assertEqual(self.df.iloc[0,3],50000)\n",
    "        \n",
    "        self.assertNotEqual(self.df.iloc[0,0],'4598')\n",
    "        self.assertNotEqual(self.df.iloc[0,1],'Sara')\n",
    "        self.assertNotEqual(self.df.iloc[0,2],45)\n",
    "        self.assertNotEqual(self.df.iloc[0,3],85000)\n",
    "        \n",
    "        \n",
    "        self.assertIn(list(self.df.loc[0]),self.data)\n",
    "        \n",
    "        self.assertNotIn([[\"5699\",\"Harry\",78,123000]],self.data)\n",
    "        \n",
    "        self.assertIsNotNone(self.df)\n",
    "        \n",
    "    def tearDown(self):\n",
    "        print('Tear Down')\n",
    "    \n",
    "    @classmethod\n",
    "    def tearDownClass(cls):\n",
    "        print('Tear Down Class')\n",
    "        \n",
    "        \n",
    "unittest.main(argv=[''], verbosity=2, exit=False)"
   ]
  },
  {
   "cell_type": "code",
   "execution_count": null,
   "metadata": {
    "collapsed": true
   },
   "outputs": [],
   "source": []
  },
  {
   "cell_type": "code",
   "execution_count": null,
   "metadata": {
    "collapsed": true
   },
   "outputs": [],
   "source": []
  }
 ],
 "metadata": {
  "kernelspec": {
   "display_name": "Python [default]",
   "language": "python",
   "name": "python2"
  },
  "language_info": {
   "codemirror_mode": {
    "name": "ipython",
    "version": 2
   },
   "file_extension": ".py",
   "mimetype": "text/x-python",
   "name": "python",
   "nbconvert_exporter": "python",
   "pygments_lexer": "ipython2",
   "version": "2.7.12"
  }
 },
 "nbformat": 4,
 "nbformat_minor": 1
}
