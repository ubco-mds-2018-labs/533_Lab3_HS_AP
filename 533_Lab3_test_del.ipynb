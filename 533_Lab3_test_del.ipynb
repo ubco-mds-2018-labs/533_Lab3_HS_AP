{
 "cells": [
  {
   "cell_type": "code",
   "execution_count": 1,
   "metadata": {
    "collapsed": false
   },
   "outputs": [
    {
     "name": "stderr",
     "output_type": "stream",
     "text": [
      "test_df_Add (__main__.TestAdd) ... "
     ]
    },
    {
     "name": "stdout",
     "output_type": "stream",
     "text": [
      "Setup Class\n",
      "Set Up\n",
      "Employee exists\n",
      "Tear Down\n",
      "Tear Down Class\n"
     ]
    },
    {
     "name": "stderr",
     "output_type": "stream",
     "text": [
      "C:\\Program Files\\Anaconda2\\lib\\unittest\\case.py:807: FutureWarning: elementwise comparison failed; returning scalar instead, but in the future will perform elementwise comparison\n",
      "  if member in container:\n",
      "ok\n",
      "\n",
      "----------------------------------------------------------------------\n",
      "Ran 1 test in 0.008s\n",
      "\n",
      "OK\n"
     ]
    },
    {
     "data": {
      "text/plain": [
       "<unittest.main.TestProgram at 0x4980ef0>"
      ]
     },
     "execution_count": 1,
     "metadata": {},
     "output_type": "execute_result"
    }
   ],
   "source": [
    "import pandas as pd\n",
    "\n",
    "import pkg.modify.apnd as p1\n",
    "import pkg.modify.dlt as p2\n",
    "import unittest\n",
    "\n",
    "\n",
    "\n",
    "\n",
    "\n",
    "class TestAdd(unittest.TestCase):\n",
    "    \n",
    "    @classmethod\n",
    "    def setUpClass(cls):\n",
    "        print('Setup Class')\n",
    "\n",
    "    \n",
    "    def setUp(self):\n",
    "        self.df = pd.DataFrame(columns=[\"eno\",\"ename\",\"age\",\"salary\"])\n",
    "        \n",
    "        self.data = [[\"1265\",\"John\",23,50000],[\"2360\",\"Bob\",65,120000]]\n",
    "        self.df = p1.addat(self.df,self.data)\n",
    "        #print(self.df)\n",
    "        print('Set Up')\n",
    "        self.data2='2360'\n",
    "        self.df2 = p2.deldat(self.df,self.data2)\n",
    "        \n",
    "    \n",
    "    def test_df_Add(self):\n",
    "     \n",
    "        \n",
    "        \n",
    "        #self.assertIn(list(self.df.loc[0]),self.data)\n",
    "        \n",
    "        self.assertNotIn([[\"2360\",\"Bob\",65,120000]],list(self.df2.loc[0]))\n",
    "        \n",
    "        \n",
    "        self.assertEqual(self.df2.iloc[0,0],'1265')\n",
    "        self.assertEqual(self.df2.iloc[0,1],'John')\n",
    "        self.assertEqual(self.df2.iloc[0,2],23)\n",
    "        self.assertEqual(self.df2.iloc[0,3],50000)\n",
    "        \n",
    "        self.assertIsNotNone(self.df)\n",
    "        self.assertIsNotNone(self.df2)\n",
    "        \n",
    "        self.assertTrue(len(self.df2)<len(self.df))\n",
    "        \n",
    "        self.assertFalse(len(self.df2)>len(self.df))\n",
    "        \n",
    "        \n",
    "        \n",
    "        \n",
    "        \n",
    "        \n",
    "        \n",
    "        \n",
    "        \n",
    "        \n",
    "        #self.assertIsNotNone(self.df)\n",
    "        \n",
    "    def tearDown(self):\n",
    "        print('Tear Down')\n",
    "    \n",
    "    @classmethod\n",
    "    def tearDownClass(cls):\n",
    "        print('Tear Down Class')\n",
    "        \n",
    "        \n",
    "unittest.main(argv=[''], verbosity=2, exit=False)\n",
    "    "
   ]
  },
  {
   "cell_type": "code",
   "execution_count": null,
   "metadata": {
    "collapsed": true
   },
   "outputs": [],
   "source": []
  }
 ],
 "metadata": {
  "kernelspec": {
   "display_name": "Python [default]",
   "language": "python",
   "name": "python2"
  },
  "language_info": {
   "codemirror_mode": {
    "name": "ipython",
    "version": 2
   },
   "file_extension": ".py",
   "mimetype": "text/x-python",
   "name": "python",
   "nbconvert_exporter": "python",
   "pygments_lexer": "ipython2",
   "version": "2.7.12"
  }
 },
 "nbformat": 4,
 "nbformat_minor": 2
}
