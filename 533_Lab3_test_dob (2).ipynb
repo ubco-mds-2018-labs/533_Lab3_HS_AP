{
 "cells": [
  {
   "cell_type": "code",
   "execution_count": 1,
   "metadata": {
    "collapsed": false
   },
   "outputs": [
    {
     "name": "stderr",
     "output_type": "stream",
     "text": [
      "test_dob (__main__.TestDOB) ... "
     ]
    },
    {
     "name": "stdout",
     "output_type": "stream",
     "text": [
      "Setup Class\n",
      "Set Up\n",
      "Tear Down\n",
      "Tear Down Class\n"
     ]
    },
    {
     "name": "stderr",
     "output_type": "stream",
     "text": [
      "ok\n",
      "\n",
      "----------------------------------------------------------------------\n",
      "Ran 1 test in 0.000s\n",
      "\n",
      "OK\n"
     ]
    },
    {
     "data": {
      "text/plain": [
       "<unittest.main.TestProgram at 0x2c02128>"
      ]
     },
     "execution_count": 1,
     "metadata": {},
     "output_type": "execute_result"
    }
   ],
   "source": [
    "import pandas as pd\n",
    "import unittest\n",
    "import pkg.query.dob as p3\n",
    "\n",
    "class TestDOB(unittest.TestCase):\n",
    "    \n",
    "    @classmethod\n",
    "    def setUpClass(cls):\n",
    "        print('Setup Class')\n",
    "\n",
    "    \n",
    "    def setUp(self):\n",
    "        \n",
    "        self.empl = p3.dob(\"2360\",\"08/18/1996\")\n",
    "        print('Set Up')\n",
    "    \n",
    "    \n",
    "    def test_dob(self):\n",
    "        \n",
    "        self.assertEqual(self.empl.eno,\"2360\") \n",
    "        self.assertEqual(self.empl.dob,\"08/18/1996\")\n",
    "        \n",
    "        self.assertIsInstance(self.empl,p3.emp)# emp is a class in the package module dob.py\n",
    "        self.assertIsInstance(self.empl,p3.dob)# dob is a class in the package module dob.py\n",
    "        \n",
    "        \n",
    "    def tearDown(self):\n",
    "        print('Tear Down')\n",
    "    \n",
    "    @classmethod\n",
    "    def tearDownClass(cls):\n",
    "        print('Tear Down Class')\n",
    "        \n",
    "        \n",
    "unittest.main(argv=[''], verbosity=2, exit=False)\n"
   ]
  },
  {
   "cell_type": "code",
   "execution_count": null,
   "metadata": {
    "collapsed": true
   },
   "outputs": [],
   "source": []
  }
 ],
 "metadata": {
  "kernelspec": {
   "display_name": "Python [default]",
   "language": "python",
   "name": "python2"
  },
  "language_info": {
   "codemirror_mode": {
    "name": "ipython",
    "version": 2
   },
   "file_extension": ".py",
   "mimetype": "text/x-python",
   "name": "python",
   "nbconvert_exporter": "python",
   "pygments_lexer": "ipython2",
   "version": "2.7.12"
  }
 },
 "nbformat": 4,
 "nbformat_minor": 1
}
